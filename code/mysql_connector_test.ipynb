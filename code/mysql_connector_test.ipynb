{
 "cells": [
  {
   "cell_type": "code",
   "execution_count": 10,
   "metadata": {
    "collapsed": true
   },
   "outputs": [],
   "source": [
    "import MySQLdb\n",
    "import pandas as pd"
   ]
  },
  {
   "cell_type": "code",
   "execution_count": 11,
   "metadata": {
    "collapsed": true
   },
   "outputs": [],
   "source": [
    "dsn_database = \"demographic\"\n",
    "dsn_hostname = \"georgetownanalyticscapstone.c50pz9jksixq.us-east-1.rds.amazonaws.com\"\n",
    "dsn_port = 3306\n",
    "dsn_uid = \"sanemkabaca\"\n",
    "dsn_pwd = \"georgetowndmv\""
   ]
  },
  {
   "cell_type": "code",
   "execution_count": 12,
   "metadata": {
    "collapsed": true
   },
   "outputs": [],
   "source": [
    "db_connection = MySQLdb.connect(host=dsn_hostname, port=dsn_port, user=dsn_uid, passwd=dsn_pwd, db=dsn_database)"
   ]
  },
  {
   "cell_type": "code",
   "execution_count": 13,
   "metadata": {},
   "outputs": [],
   "source": [
    "query = (\"\"\"SELECT * FROM demographic.age_sex LIMIT 10\"\"\")"
   ]
  },
  {
   "cell_type": "code",
   "execution_count": 14,
   "metadata": {
    "collapsed": true
   },
   "outputs": [],
   "source": [
    "df = pd.read_sql(query, con=db_connection)"
   ]
  },
  {
   "cell_type": "code",
   "execution_count": 16,
   "metadata": {},
   "outputs": [
    {
     "data": {
      "text/html": [
       "<div>\n",
       "<style>\n",
       "    .dataframe thead tr:only-child th {\n",
       "        text-align: right;\n",
       "    }\n",
       "\n",
       "    .dataframe thead th {\n",
       "        text-align: left;\n",
       "    }\n",
       "\n",
       "    .dataframe tbody tr th {\n",
       "        vertical-align: top;\n",
       "    }\n",
       "</style>\n",
       "<table border=\"1\" class=\"dataframe\">\n",
       "  <thead>\n",
       "    <tr style=\"text-align: right;\">\n",
       "      <th></th>\n",
       "      <th>geo_id</th>\n",
       "      <th>zip</th>\n",
       "      <th>geo_label</th>\n",
       "      <th>pop</th>\n",
       "      <th>pop_e</th>\n",
       "      <th>pop_m</th>\n",
       "      <th>pop_m_e</th>\n",
       "      <th>pop_f</th>\n",
       "      <th>pop_f_e</th>\n",
       "      <th>pop_under_5</th>\n",
       "      <th>...</th>\n",
       "      <th>m_pct_sex_imputed</th>\n",
       "      <th>m_pct_sex_imputed_e</th>\n",
       "      <th>f_pct_sex_imputed</th>\n",
       "      <th>f_pct_sex_imputed_e</th>\n",
       "      <th>pop_pct_age_imputed</th>\n",
       "      <th>pop_pct_age_imputed_e</th>\n",
       "      <th>m_pct_age_imputed</th>\n",
       "      <th>m_pct_age_imputed_e</th>\n",
       "      <th>f_pct_age_imputed</th>\n",
       "      <th>f_pct_age_imputed_e</th>\n",
       "    </tr>\n",
       "  </thead>\n",
       "  <tbody>\n",
       "    <tr>\n",
       "      <th>0</th>\n",
       "      <td>8600000US20001</td>\n",
       "      <td>20001</td>\n",
       "      <td>ZCTA5 20001</td>\n",
       "      <td>43731</td>\n",
       "      <td>1438</td>\n",
       "      <td>21018</td>\n",
       "      <td>1118</td>\n",
       "      <td>22713</td>\n",
       "      <td>886</td>\n",
       "      <td>4</td>\n",
       "      <td>...</td>\n",
       "      <td>None</td>\n",
       "      <td>None</td>\n",
       "      <td>None</td>\n",
       "      <td>None</td>\n",
       "      <td>2</td>\n",
       "      <td>None</td>\n",
       "      <td>None</td>\n",
       "      <td>None</td>\n",
       "      <td>None</td>\n",
       "      <td>None</td>\n",
       "    </tr>\n",
       "    <tr>\n",
       "      <th>1</th>\n",
       "      <td>8600000US20002</td>\n",
       "      <td>20002</td>\n",
       "      <td>ZCTA5 20002</td>\n",
       "      <td>57412</td>\n",
       "      <td>1600</td>\n",
       "      <td>27707</td>\n",
       "      <td>1045</td>\n",
       "      <td>29705</td>\n",
       "      <td>1124</td>\n",
       "      <td>6</td>\n",
       "      <td>...</td>\n",
       "      <td>None</td>\n",
       "      <td>None</td>\n",
       "      <td>None</td>\n",
       "      <td>None</td>\n",
       "      <td>3</td>\n",
       "      <td>None</td>\n",
       "      <td>None</td>\n",
       "      <td>None</td>\n",
       "      <td>None</td>\n",
       "      <td>None</td>\n",
       "    </tr>\n",
       "    <tr>\n",
       "      <th>2</th>\n",
       "      <td>8600000US20003</td>\n",
       "      <td>20003</td>\n",
       "      <td>ZCTA5 20003</td>\n",
       "      <td>28538</td>\n",
       "      <td>756</td>\n",
       "      <td>15194</td>\n",
       "      <td>669</td>\n",
       "      <td>13344</td>\n",
       "      <td>590</td>\n",
       "      <td>6</td>\n",
       "      <td>...</td>\n",
       "      <td>None</td>\n",
       "      <td>None</td>\n",
       "      <td>None</td>\n",
       "      <td>None</td>\n",
       "      <td>2</td>\n",
       "      <td>None</td>\n",
       "      <td>None</td>\n",
       "      <td>None</td>\n",
       "      <td>None</td>\n",
       "      <td>None</td>\n",
       "    </tr>\n",
       "    <tr>\n",
       "      <th>3</th>\n",
       "      <td>8600000US20004</td>\n",
       "      <td>20004</td>\n",
       "      <td>ZCTA5 20004</td>\n",
       "      <td>1667</td>\n",
       "      <td>221</td>\n",
       "      <td>882</td>\n",
       "      <td>137</td>\n",
       "      <td>785</td>\n",
       "      <td>134</td>\n",
       "      <td>4</td>\n",
       "      <td>...</td>\n",
       "      <td>None</td>\n",
       "      <td>None</td>\n",
       "      <td>None</td>\n",
       "      <td>None</td>\n",
       "      <td>0</td>\n",
       "      <td>None</td>\n",
       "      <td>None</td>\n",
       "      <td>None</td>\n",
       "      <td>None</td>\n",
       "      <td>None</td>\n",
       "    </tr>\n",
       "    <tr>\n",
       "      <th>4</th>\n",
       "      <td>8600000US20005</td>\n",
       "      <td>20005</td>\n",
       "      <td>ZCTA5 20005</td>\n",
       "      <td>12947</td>\n",
       "      <td>701</td>\n",
       "      <td>6920</td>\n",
       "      <td>636</td>\n",
       "      <td>6027</td>\n",
       "      <td>552</td>\n",
       "      <td>3</td>\n",
       "      <td>...</td>\n",
       "      <td>None</td>\n",
       "      <td>None</td>\n",
       "      <td>None</td>\n",
       "      <td>None</td>\n",
       "      <td>1</td>\n",
       "      <td>None</td>\n",
       "      <td>None</td>\n",
       "      <td>None</td>\n",
       "      <td>None</td>\n",
       "      <td>None</td>\n",
       "    </tr>\n",
       "  </tbody>\n",
       "</table>\n",
       "<p>5 rows × 159 columns</p>\n",
       "</div>"
      ],
      "text/plain": [
       "           geo_id    zip    geo_label    pop  pop_e  pop_m  pop_m_e  pop_f  \\\n",
       "0  8600000US20001  20001  ZCTA5 20001  43731   1438  21018     1118  22713   \n",
       "1  8600000US20002  20002  ZCTA5 20002  57412   1600  27707     1045  29705   \n",
       "2  8600000US20003  20003  ZCTA5 20003  28538    756  15194      669  13344   \n",
       "3  8600000US20004  20004  ZCTA5 20004   1667    221    882      137    785   \n",
       "4  8600000US20005  20005  ZCTA5 20005  12947    701   6920      636   6027   \n",
       "\n",
       "   pop_f_e  pop_under_5         ...           m_pct_sex_imputed  \\\n",
       "0      886            4         ...                        None   \n",
       "1     1124            6         ...                        None   \n",
       "2      590            6         ...                        None   \n",
       "3      134            4         ...                        None   \n",
       "4      552            3         ...                        None   \n",
       "\n",
       "   m_pct_sex_imputed_e  f_pct_sex_imputed  f_pct_sex_imputed_e  \\\n",
       "0                 None               None                 None   \n",
       "1                 None               None                 None   \n",
       "2                 None               None                 None   \n",
       "3                 None               None                 None   \n",
       "4                 None               None                 None   \n",
       "\n",
       "   pop_pct_age_imputed  pop_pct_age_imputed_e  m_pct_age_imputed  \\\n",
       "0                    2                   None               None   \n",
       "1                    3                   None               None   \n",
       "2                    2                   None               None   \n",
       "3                    0                   None               None   \n",
       "4                    1                   None               None   \n",
       "\n",
       "   m_pct_age_imputed_e  f_pct_age_imputed  f_pct_age_imputed_e  \n",
       "0                 None               None                 None  \n",
       "1                 None               None                 None  \n",
       "2                 None               None                 None  \n",
       "3                 None               None                 None  \n",
       "4                 None               None                 None  \n",
       "\n",
       "[5 rows x 159 columns]"
      ]
     },
     "execution_count": 16,
     "metadata": {},
     "output_type": "execute_result"
    }
   ],
   "source": [
    "df.head()"
   ]
  },
  {
   "cell_type": "code",
   "execution_count": 17,
   "metadata": {
    "collapsed": true
   },
   "outputs": [],
   "source": [
    "import sklearn"
   ]
  },
  {
   "cell_type": "code",
   "execution_count": null,
   "metadata": {
    "collapsed": true
   },
   "outputs": [],
   "source": []
  }
 ],
 "metadata": {
  "kernelspec": {
   "display_name": "Python 3",
   "language": "python",
   "name": "python3"
  },
  "language_info": {
   "codemirror_mode": {
    "name": "ipython",
    "version": 3
   },
   "file_extension": ".py",
   "mimetype": "text/x-python",
   "name": "python",
   "nbconvert_exporter": "python",
   "pygments_lexer": "ipython3",
   "version": "3.6.1"
  }
 },
 "nbformat": 4,
 "nbformat_minor": 2
}
