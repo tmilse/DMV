{
 "cells": [
  {
   "cell_type": "markdown",
   "metadata": {},
   "source": []
  },
  {
   "cell_type": "code",
   "execution_count": null,
   "metadata": {
    "collapsed": true
   },
   "outputs": [],
   "source": [
    "#imports\n",
    "import pandas as pd\n",
    "import numpy as np\n",
    "\n",
    "#set appropriate zip codes\n",
    "VA_zips = [20109, 20110, 20111, 20112, 20120, 20121, 20124, 20136,\n",
    "  20147, 20148, 20151, 20152, 20164, 20165, 20166, 20170, 20171, 20190, 20191,\n",
    "  20194, 22003, 22015, 22020, 22025, 22026, 22027, 22030, 22031, 22032, 22033,\n",
    "  22039, 22041, 22042, 22043, 22044, 22046, 22060, 22066, 22079, 22081, 22101,\n",
    "  22102, 22124, 22134, 22150, 22151, 22152, 22153, 22172, 22180, 22181, 22182,\n",
    "  22191, 22192, 22193, 22201, 22202, 22203, 22204, 22205, 22206, 22207, 22209,\n",
    "  22213, 22301, 22302, 22303, 22304, 22305, 22306, 22307, 22308, 22309, 22310,\n",
    "  22311, 22312, 22314, 22315, 23888, 24281]\n",
    "MD_zips = [20601, 20602, 20603, 20607, 20611, 20613, 20616, 20637,\n",
    "   20639, 20640, 20646, 20675, 20695, 20705, 20706, 20707, 20708, 20710, 20712,\n",
    "   20714, 20715, 20716, 20720, 20721, 20722, 20723, 20724, 20732, 20733, 20735,\n",
    "   20737, 20738, 20740, 20742, 20743, 20744, 20745, 20746, 20747, 20748, 20751,\n",
    "   20754, 20758, 20759, 20763, 20764, 20769, 20770, 20772, 20774, 20777, 20778,\n",
    "   20781, 20782, 20783, 20784, 20785, 20794, 20814, 20815, 20816, 20817, 20818,\n",
    "   20832, 20837, 20841, 20850, 20851, 20852, 20853, 20854, 20855, 20860, 20866,\n",
    "   20871, 20872, 20874, 20876, 20877, 20878, 20879, 20882, 20886, 20895, 20901,\n",
    "   20902, 20903, 20904, 20905, 20906, 20910, 20911, 20912, 21012, 21029, 21032,\n",
    "   21037, 21042, 21043, 21044, 21045, 21046, 21054, 21060, 21061, 21075, 21076,\n",
    "   21090, 21104, 21108, 21113, 21114, 21117, 21122, 21128, 21140, 21144, 21146,\n",
    "   21163, 21208, 21227, 21228, 21229, 21234, 21236, 21401, 21402, 21403, 21409]"
   ]
  },
  {
   "cell_type": "code",
   "execution_count": null,
   "metadata": {
    "collapsed": true
   },
   "outputs": [],
   "source": [
    "#import the datasets\n",
    "DCE = pd.read_csv('/Users/MaggieCorry/Documents/Georgetown/Capstone/FactFinder_Data/Raw_Data_DC/DC_Employ_Chars_2015.csv',encoding=\"Latin1\")\n",
    "DCH = pd.read_csv('/Users/MaggieCorry/Documents/Georgetown/Capstone/FactFinder_Data/Raw_Data_DC/DC_Healthcare_2015.csv',encoding=\"Latin1\")\n",
    "DCI = pd.read_csv('/Users/MaggieCorry/Documents/Georgetown/Capstone/FactFinder_Data/Raw_Data_DC/DC_IncomeChars_2015.csv',encoding=\"Latin1\")\n",
    "DCS = pd.read_csv('/Users/MaggieCorry/Documents/Georgetown/Capstone/FactFinder_Data/Raw_Data_DC/DC_SocialChars_2015.csv',encoding=\"Latin1\")\n",
    "\n",
    "VAE = pd.read_csv('/Users/MaggieCorry/Documents/Georgetown/Capstone/FactFinder_Data/Raw_Data_VA/VA_Employ_chars_2015.csv',encoding=\"Latin1\")\n",
    "VAH = pd.read_csv('/Users/MaggieCorry/Documents/Georgetown/Capstone/FactFinder_Data/Raw_Data_VA/VA_Healthcare_2015.csv',encoding=\"Latin1\")\n",
    "VAI = pd.read_csv('/Users/MaggieCorry/Documents/Georgetown/Capstone/FactFinder_Data/Raw_Data_VA/VA_Income_chars_2015.csv',encoding=\"Latin1\")\n",
    "VAS = pd.read_csv('/Users/MaggieCorry/Documents/Georgetown/Capstone/FactFinder_Data/Raw_Data_VA/VA_Social_chars_2015.csv',encoding=\"Latin1\")\n",
    "\n",
    "MDE = pd.read_csv('/Users/MaggieCorry/Documents/Georgetown/Capstone/FactFinder_Data/Raw_Data_MD/MD_Employ_Chars_2015.csv',encoding=\"Latin1\")\n",
    "MDH = pd.read_csv('/Users/MaggieCorry/Documents/Georgetown/Capstone/FactFinder_Data/Raw_Data_MD/MD_Healthcare_2015.csv',encoding=\"Latin1\")\n",
    "MDI = pd.read_csv('/Users/MaggieCorry/Documents/Georgetown/Capstone/FactFinder_Data/Raw_Data_MD/MD_Income_chars_2015.csv',encoding=\"Latin1\")\n",
    "MDS = pd.read_csv('/Users/MaggieCorry/Documents/Georgetown/Capstone/FactFinder_Data/Raw_Data_MD/MD_Social_chars_2015.csv',encoding=\"Latin1\")"
   ]
  },
  {
   "cell_type": "code",
   "execution_count": null,
   "metadata": {
    "collapsed": true
   },
   "outputs": [],
   "source": [
    "#merge needed zip codes for a census dataset\n",
    "def Data_prep(DC, MD, VA):\n",
    "    #DC\n",
    "    DC.rename(columns={'GEO.id': 'ID', 'GEO.id2': 'ZIPCODE', 'GEO.display-label': 'Label'}, inplace=True)\n",
    "    DC_df = DC\n",
    "    #Maryland\n",
    "    MD.rename(columns={'GEO.id': 'ID', 'GEO.id2': 'ZIPCODE', 'GEO.display-label': 'Label'}, inplace=True)\n",
    "    MD_df = MD[MD['ZIPCODE'].isin(MD_zips)]\n",
    "    #Virginia\n",
    "    VA.rename(columns={'GEO.id': 'ID', 'GEO.id2': 'ZIPCODE', 'GEO.display-label': 'Label'}, inplace=True)\n",
    "    VA_df = VA[VA['ZIPCODE'].isin(VA_zips)]\n",
    "    Full_df = pd.concat([DC_df, MD_df, VA_df])\n",
    "    return(Full_df)\n"
   ]
  },
  {
   "cell_type": "code",
   "execution_count": null,
   "metadata": {
    "collapsed": true
   },
   "outputs": [],
   "source": [
    "#merge the four datasets\n",
    "def Full_merge(Employment, Healthcare, Income, Social):\n",
    "    Merged = pd.concat([Employment, Healthcare, Income, Social],axis=1)\n",
    "    return(Merged)"
   ]
  },
  {
   "cell_type": "code",
   "execution_count": null,
   "metadata": {
    "collapsed": true
   },
   "outputs": [],
   "source": [
    "#fix, clean, and export the data as csv to current folder\n",
    "def na_fix(Merged):\n",
    "    Working = Merged.replace(['(X)', '**', '-'],[\"NaN\", 0, 0])\n",
    "    Working.dropna(axis=1, how='all')\n",
    "    Working.to_csv('Census_Data_merged.csv', encoding='utf-8')"
   ]
  },
  {
   "cell_type": "code",
   "execution_count": null,
   "metadata": {
    "collapsed": true
   },
   "outputs": [],
   "source": [
    "#main code\n",
    "#Wrangle the data\n",
    "Employment = Data_prep(DCE, VAE, MDE)\n",
    "Healthcare = Data_prep(DCH, VAH, MDH)\n",
    "Income = Data_prep(DCI, VAI, MDI)\n",
    "Social = Data_prep(DCS, VAS, MDS)\n",
    "#Merge the four\n",
    "Merged = Full_merge(Employment, Healthcare, Income, Social)"
   ]
  }
 ],
 "metadata": {
  "kernelspec": {
   "display_name": "Python 3",
   "language": "python",
   "name": "python3"
  },
  "language_info": {
   "codemirror_mode": {
    "name": "ipython",
    "version": 3
   },
   "file_extension": ".py",
   "mimetype": "text/x-python",
   "name": "python",
   "nbconvert_exporter": "python",
   "pygments_lexer": "ipython3",
   "version": "3.5.0rc2"
  }
 },
 "nbformat": 4,
 "nbformat_minor": 2
}
