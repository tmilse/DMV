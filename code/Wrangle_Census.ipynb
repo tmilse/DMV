{
 "cells": [
  {
   "cell_type": "code",
   "execution_count": null,
   "metadata": {
    "collapsed": true
   },
   "outputs": [],
   "source": [
    "#imports\n",
    "import pandas as pd\n",
    "import numpy as np\n",
    "\n",
    "#set appropriate zip codes\n",
    "VA_zips = [20109, 20110, 20111, 20112, 20120, 20121, 20124, 20136,\n",
    "  20147, 20148, 20151, 20152, 20164, 20165, 20166, 20170, 20171, 20190, 20191,\n",
    "  20194, 22003, 22015, 22020, 22025, 22026, 22027, 22030, 22031, 22032, 22033,\n",
    "  22039, 22041, 22042, 22043, 22044, 22046, 22060, 22066, 22079, 22081, 22101,\n",
    "  22102, 22124, 22134, 22150, 22151, 22152, 22153, 22172, 22180, 22181, 22182,\n",
    "  22191, 22192, 22193, 22201, 22202, 22203, 22204, 22205, 22206, 22207, 22209,\n",
    "  22213, 22301, 22302, 22303, 22304, 22305, 22306, 22307, 22308, 22309, 22310,\n",
    "  22311, 22312, 22314, 22315, 23888, 24281]\n",
    "MD_zips = [20601, 20602, 20603, 20607, 20611, 20613, 20616, 20637,\n",
    "   20639, 20640, 20646, 20675, 20695, 20705, 20706, 20707, 20708, 20710, 20712,\n",
    "   20714, 20715, 20716, 20720, 20721, 20722, 20723, 20724, 20732, 20733, 20735,\n",
    "   20737, 20738, 20740, 20742, 20743, 20744, 20745, 20746, 20747, 20748, 20751,\n",
    "   20754, 20758, 20759, 20763, 20764, 20769, 20770, 20772, 20774, 20777, 20778,\n",
    "   20781, 20782, 20783, 20784, 20785, 20794, 20814, 20815, 20816, 20817, 20818,\n",
    "   20832, 20837, 20841, 20850, 20851, 20852, 20853, 20854, 20855, 20860, 20866,\n",
    "   20871, 20872, 20874, 20876, 20877, 20878, 20879, 20882, 20886, 20895, 20901,\n",
    "   20902, 20903, 20904, 20905, 20906, 20910, 20911, 20912, 21012, 21029, 21032,\n",
    "   21037, 21042, 21043, 21044, 21045, 21046, 21054, 21060, 21061, 21075, 21076,\n",
    "   21090, 21104, 21108, 21113, 21114, 21117, 21122, 21128, 21140, 21144, 21146,\n",
    "   21163, 21208, 21227, 21228, 21229, 21234, 21236, 21401, 21402, 21403, 21409]"
   ]
  },
  {
   "cell_type": "code",
   "execution_count": null,
   "metadata": {
    "collapsed": true
   },
   "outputs": [],
   "source": [
    "#import the datasets\n",
    "DCE = pd.read_csv('/Users/MaggieCorry/Documents/Georgetown/Capstone/FactFinder_Data/Raw_Data_DC/DC_Employ_Chars_2015.csv',encoding=\"Latin1\")\n",
    "DCH = pd.read_csv('/Users/MaggieCorry/Documents/Georgetown/Capstone/FactFinder_Data/Raw_Data_DC/DC_Healthcare_2015.csv',encoding=\"Latin1\")\n",
    "DCI = pd.read_csv('/Users/MaggieCorry/Documents/Georgetown/Capstone/FactFinder_Data/Raw_Data_DC/DC_IncomeChars_2015.csv',encoding=\"Latin1\")\n",
    "DCS = pd.read_csv('/Users/MaggieCorry/Documents/Georgetown/Capstone/FactFinder_Data/Raw_Data_DC/DC_SocialChars_2015.csv',encoding=\"Latin1\")\n",
    "\n",
    "VAE = pd.read_csv('/Users/MaggieCorry/Documents/Georgetown/Capstone/FactFinder_Data/Raw_Data_VA/VA_Employ_chars_2015.csv',encoding=\"Latin1\")\n",
    "VAH = pd.read_csv('/Users/MaggieCorry/Documents/Georgetown/Capstone/FactFinder_Data/Raw_Data_VA/VA_Healthcare_2015.csv',encoding=\"Latin1\")\n",
    "VAI = pd.read_csv('/Users/MaggieCorry/Documents/Georgetown/Capstone/FactFinder_Data/Raw_Data_VA/VA_Income_chars_2015.csv',encoding=\"Latin1\")\n",
    "VAS = pd.read_csv('/Users/MaggieCorry/Documents/Georgetown/Capstone/FactFinder_Data/Raw_Data_VA/VA_Social_chars_2015.csv',encoding=\"Latin1\")\n",
    "\n",
    "MDE = pd.read_csv('/Users/MaggieCorry/Documents/Georgetown/Capstone/FactFinder_Data/Raw_Data_MD/MD_Employ_Chars_2015.csv',encoding=\"Latin1\")\n",
    "MDH = pd.read_csv('/Users/MaggieCorry/Documents/Georgetown/Capstone/FactFinder_Data/Raw_Data_MD/MD_Healthcare_2015.csv',encoding=\"Latin1\")\n",
    "MDI = pd.read_csv('/Users/MaggieCorry/Documents/Georgetown/Capstone/FactFinder_Data/Raw_Data_MD/MD_Income_chars_2015.csv',encoding=\"Latin1\")\n",
    "MDS = pd.read_csv('/Users/MaggieCorry/Documents/Georgetown/Capstone/FactFinder_Data/Raw_Data_MD/MD_Social_chars_2015.csv',encoding=\"Latin1\")"
   ]
  },
  {
   "cell_type": "code",
   "execution_count": null,
   "metadata": {
    "collapsed": true
   },
   "outputs": [],
   "source": [
    "#merge needed zip codes for a census dataset\n",
    "def Data_prep(DC, MD, VA):\n",
    "    #DC\n",
    "    DC.rename(columns={'GEO.id': 'ID', 'GEO.id2': 'ZIPCODE', 'GEO.display-label': 'Label'}, inplace=True)\n",
    "    DC_df = DC\n",
    "    #Maryland\n",
    "    MD.rename(columns={'GEO.id': 'ID', 'GEO.id2': 'ZIPCODE', 'GEO.display-label': 'Label'}, inplace=True)\n",
    "    MD_df = MD[MD['ZIPCODE'].isin(MD_zips)]\n",
    "    #Virginia\n",
    "    VA.rename(columns={'GEO.id': 'ID', 'GEO.id2': 'ZIPCODE', 'GEO.display-label': 'Label'}, inplace=True)\n",
    "    VA_df = VA[VA['ZIPCODE'].isin(VA_zips)]\n",
    "    Full_df = pd.concat([DC_df, MD_df, VA_df])\n",
    "    return(Full_df)"
   ]
  },
  {
   "cell_type": "code",
   "execution_count": null,
   "metadata": {
    "collapsed": true
   },
   "outputs": [],
   "source": [
    "#fix, clean, and export the data as csv to current folder\n",
    "def na_fix(Merged, outname):\n",
    "    Working = Merged.replace(['(X)', '**', '-'],[\"NaN\", 0, 0])\n",
    "    Working.dropna(axis=1, how='all')"
   ]
  },
  {
   "cell_type": "code",
   "execution_count": null,
   "metadata": {
    "collapsed": true
   },
   "outputs": [],
   "source": [
    "def Employment_prep(DC, MD, VA):\n",
    "    E_vars = ['ID','ZIPCODE','Label','HC03_VC04','HC03_VC05','HC03_VC08','HC03_VC12','HC03_VC15',\n",
    "              'HC03_VC27','HC03_VC28','HC03_VC29','HC03_VC30','HC03_VC31','HC03_VC32','HC03_VC33',\n",
    "              'HC03_VC36','HC03_VC67','HC03_VC68','HC03_VC69']\n",
    "    Full_df = Data_prep(DC, MD, VA)\n",
    "    Employment = Full_df[E_vars]\n",
    "    Employment.columns = ['Id','Id2','Geography','P_EMPLOYED','P_LABOR_CIV','P_LABOR_ARMFORCE',\n",
    "                          'P_UNEMP','P_EMPLOYED_F','P_COMMUTE','P_COM_DRIVE','P_COM_CARPOOL',\n",
    "                          'P_COM_PTRANS','P_COM_WALK','P_COM_OTHER','P_WFH','P_MIN_COM','P_PRIVATE',\n",
    "                          'P_PUBLIC','P_SELFEMP']\n",
    "    Employment = na_fix(Employment)\n",
    "    return(Employment)"
   ]
  },
  {
   "cell_type": "code",
   "execution_count": null,
   "metadata": {
    "collapsed": true
   },
   "outputs": [],
   "source": [
    "def Healthcare_prep(DC, MD, VA):\n",
    "    H_vars = ['ID','ZIPCODE','Label','HC03_EST_VC07','HC05_EST_VC07','HC03_EST_VC13','HC05_EST_VC13',\n",
    "              'HC03_EST_VC20','HC05_EST_VC20','HC03_EST_VC21','HC05_EST_VC21']\n",
    "    Full_df = Data_prep(DC, MD, VA)\n",
    "    Healthcare = Full_df[H_vars]\n",
    "    Healthcare.columns = ['Id','Id2','Geography','P_INSURED','P_UNINSURED','P_INSURED_65UP',\n",
    "                          'P_UNINSURED_65UP','P_INSURED_M','P_UNINSURED_M','P_INSURED_F','P_UNINSURED_F']\n",
    "    Healthcare = na_fix(Healthcare)\n",
    "    return(Healthcare)"
   ]
  },
  {
   "cell_type": "code",
   "execution_count": null,
   "metadata": {
    "collapsed": true
   },
   "outputs": [],
   "source": [
    "def Income_prep(DC, MD, VA):\n",
    "    I_vars = ['ID','ZIPCODE','Label','HC01_EST_VC01','HC01_EST_VC02','HC01_EST_VC03','HC01_EST_VC04',\n",
    "              'HC01_EST_VC05','HC01_EST_VC06','HC01_EST_VC07','HC01_EST_VC08','HC01_EST_VC09',\n",
    "              'HC01_EST_VC10','HC01_EST_VC11','HC01_EST_VC13','HC01_EST_VC15']\n",
    "    Full_df = Data_prep(DC, MD, VA)\n",
    "    Income = Full_df[I_vars]\n",
    "    Income.columns = ['Id','Id2','Geography','P_INC_HH','P_INC_HH_10','P_INC_HH_10_15','P_INC_HH_15_25',\n",
    "                      'P_INC_HH_25_35','P_INC_HH_35_45','P_INC_HH_50_75','P_INC_HH_75_100',\n",
    "                      'P_INC_HH_100_150','P_INC_HH_150_200','P_INC_HH_200P','INC_HH_MEDIAN','INC_HH_MEAN',]\n",
    "    Income = na_fix(Income)\n",
    "    return(Income)"
   ]
  },
  {
   "cell_type": "code",
   "execution_count": null,
   "metadata": {
    "collapsed": true
   },
   "outputs": [],
   "source": [
    "def Social_prep(DC, MD, VA):\n",
    "    S_vars = ['ID','ZIPCODE','Label','HC01_VC03','HC03_VC04','HC03_VC12','HC01_VC21','HC01_VC22','HC01_VC26',\n",
    "              'HC03_VC36','HC03_VC43','HC03_VC85','HC03_VC86','HC03_VC87','HC03_VC88','HC03_VC89','HC03_VC90',\n",
    "              'HC03_VC91','HC03_VC92','HC03_VC100','HC03_VC105','HC03_VC120','HC03_VC132','HC03_VC136',\n",
    "              'HC03_VC160','HC03_VC172']\n",
    "    Full_df = Data_prep(DC, MD, VA)\n",
    "    Social = Full_df[S_vars]\n",
    "    Social.columns = ['Id','Id2','Geography','EST_HH','P_HH_FAM','P_HH_NONFAM','EST_HH_SIZE','EST_FAM_SIZE',\n",
    "                      'EST_HH_POP','EST_MARRIED_M','EST_MARRIED_F','P_EDU','P_EDU_9L','P_EDU_9_12','P_EDU_HS',\n",
    "                      'P_EDU_COLLEGE_SOME','P_EDU_AD','P_EDU_BD','P_EDU_GD','P_VETS','P_DISABILITY','P_RESIDE_1L',\n",
    "                      'P_NATIVE','P_FOREIGN','P_FOREIGN_BORN','P_LANG_NOT_ENGLISH']\n",
    "    Social = na_fix(Social)\n",
    "    return(Social)"
   ]
  },
  {
   "cell_type": "code",
   "execution_count": null,
   "metadata": {
    "collapsed": true
   },
   "outputs": [],
   "source": [
    "#main code\n",
    "#Wrangle the data\n",
    "Employment = Employment_prep(DCE, VAE, MDE)\n",
    "Healthcare = Healthcare_prep(DCH, VAH, MDH)\n",
    "Income = Income_prep(DCI, VAI, MDI)\n",
    "Social = Social_prep(DCS, VAS, MDS)"
   ]
  },
  {
   "cell_type": "code",
   "execution_count": null,
   "metadata": {
    "collapsed": true
   },
   "outputs": [],
   "source": [
    "#Output the data\n",
    "Employment.to_csv('Employment.csv')\n",
    "Healthcare.to_csv('Healthcare.csv')\n",
    "Income.to_csv('Income.csv')\n",
    "Social.to_csv('Social.csv')"
   ]
  }
 ],
 "metadata": {
  "kernelspec": {
   "display_name": "Python 3",
   "language": "python",
   "name": "python3"
  },
  "language_info": {
   "codemirror_mode": {
    "name": "ipython",
    "version": 3
   },
   "file_extension": ".py",
   "mimetype": "text/x-python",
   "name": "python",
   "nbconvert_exporter": "python",
   "pygments_lexer": "ipython3",
   "version": "3.5.0rc2"
  }
 },
 "nbformat": 4,
 "nbformat_minor": 2
}
