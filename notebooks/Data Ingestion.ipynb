{
 "cells": [
  {
   "cell_type": "code",
   "execution_count": null,
   "metadata": {
    "collapsed": true
   },
   "outputs": [],
   "source": [
    "\n",
    "#                                           Filename: ScrapeUnitData.py\n",
    "#\n",
    "#   Description: This is a python script to scrape data from the web. In order to use this on your computer you will need to make\n",
    "#                the following changes:\n",
    "#                 \n",
    "#                 1. Change the file path to point towards wherever you saved AllCities.csv. \n",
    "#                    This is done on the line with the pd.read_csv() command\n",
    "#                 2. Change i depending on what your starting point is. For Maggie it's 1500, Tanya: 3000, Sanem: 4500\n",
    "#                 3. Change the condition in the while loop. For Maggie, it's \"while i < 3000:\"\n",
    "#                    For Tanya, it's \"while i < 4500:\"\n",
    "#                    For Sanem, it's \"while i < 6038:\"\n",
    "#                 4. Change file path in the open() command, but please note we need to keep track of which file we scrape \n",
    "#                    so you should only replace this text with your own path:\n",
    "#                        \n",
    "#                        C:\\\\Users\\\\NKallfa\\\\Desktop\\\\Documents\\\\Georgetown Data Science Certificate\\\\Capstone Project Data\\\\Unit Data\\\\\n",
    "#\n",
    "#                       Try not to replace anything else because I'm using the PropertyID+str(i)+\".html\" part to keep track of the value of i                \n",
    "#             MAC USERS: When writing file paths like above I think you need to use FORWARD SLASHES rather than BACKWARD SLASHES\n",
    "#\n",
    "#            NOTE: You MIGHT run into an error when you write the html to a file locally on your computer. I'm not exactly sure how to \n",
    "#                  solve that at the moment. What you could try doing is just take note of the value of i where you encounter a difficulty\n",
    "#                  and just skip over that value for now. The error has to do with saving a certain type of character that's in the html\n",
    "#                  So for example if I'm getting an error when i = 1700, then just restart the code, but start at i = 1701 instead of \n",
    "#                  i = 1700. But definitely note where the error occurred. I encountered an error scraping when i = 954\n",
    "#\n",
    "\n",
    "# Import required packages\n",
    "import requests # This package will scrape the data\n",
    "from bs4 import BeautifulSoup # We won't use this package, but it will be used to parse the websites we scrape\n",
    "import pandas as pd # We will use this to read in the csv I sent out over email\n",
    "\n",
    "# You will need to change the directory here to point to wherever you are storing AllCities.csv\n",
    "# NOTE: I BELIEVE ON MAC YOU NEED TO USE FORWARD SLASHES INSTEAD OF BACKWARD SLASHES LIKE I DO (since I'm on Windows)\n",
    "#address = pd.read_csv(\"address.csv\")\n",
    "#links = pd.read_csv(\"links.csv\")\n",
    "#address_dedup = address.drop_duplicates(subset = [\"address\", \"city\", \"state\", \"zip\"], keep = \"first\")\n",
    "#link_dedup = links.loc[address_dedup.index]\n",
    "\n",
    "#i = 3000 #This is for Tanya (just remove the leading #)\n",
    "#i = 4500 #This is for Sanem (just remove the leading #) \n",
    "#i = 0#This is for Maggie \n",
    "for i in link_dedup.index[6689:] : #This is for Maggie, but for Tanya you'll need to change this to 4500 and for Sanem you'll need to change it to 6038 since we have 6037 properties in AllCities.csv\n",
    "    page = requests.get(link_dedup[\"url\"][i]) # This will scrape or get the html from the url in the ith row of the \"Link\" column in AllCities.sv\n",
    "    \n",
    "    # This will create a new HTML file\n",
    "    # You just need to change the path to match to a path on your computer where you want to store the files\n",
    "    # For example, if i = 0, this will create a file called PropertyID0.html in my folder called \"Unit Data\" and the path to my \"Unit Data\" folder is \"C:\\Users\\NKallfa\\Desktop\\Documents\\Georgetown Data Science Certificate\\Capstone Project Data\\Unit Data\\\"\n",
    "    # We need to keep track of which property in AllCities.csv matches to the websites \n",
    "    # we scrape and that's what the '...PropertyID'+str(i)+ part does \n",
    "    Html_file = open('C:\\\\Users\\\\NKallfa\\\\Desktop\\\\Documents\\\\Georgetown Data Science Certificate\\\\DMV\\\\data\\\\unit data\\\\PropertyID'+str(i)+'.html', 'w')\n",
    "    Html_file.write(page.text) # This will write the html to the file you created in the previous line\n",
    "    Html_file.close # This will just close the file we created \n",
    "    #i+=1#This will increase i by 1 so we continue going down the rows of the \"Link\" column in \"AllCities.csv\". After this we go back to the beginning of the while loop"
   ]
  }
 ],
 "metadata": {
  "kernelspec": {
   "display_name": "Python 3",
   "language": "python",
   "name": "python3"
  },
  "language_info": {
   "codemirror_mode": {
    "name": "ipython",
    "version": 3
   },
   "file_extension": ".py",
   "mimetype": "text/x-python",
   "name": "python",
   "nbconvert_exporter": "python",
   "pygments_lexer": "ipython3",
   "version": "3.6.1"
  }
 },
 "nbformat": 4,
 "nbformat_minor": 2
}
